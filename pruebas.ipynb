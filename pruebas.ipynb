{
 "cells": [
  {
   "cell_type": "code",
   "execution_count": 1,
   "metadata": {},
   "outputs": [],
   "source": [
    "import pandas as pd\n",
    "import re"
   ]
  },
  {
   "cell_type": "code",
   "execution_count": 15,
   "metadata": {},
   "outputs": [],
   "source": [
    "df = pd.read_csv(\"precios.csv\")"
   ]
  },
  {
   "cell_type": "code",
   "execution_count": 16,
   "metadata": {},
   "outputs": [
    {
     "data": {
      "text/plain": [
       "medicamento             object\n",
       "descripcion             object\n",
       "peso                    object\n",
       "presentacion           float64\n",
       "forma_farmacologica     object\n",
       "marca                   object\n",
       "precio                  object\n",
       "max_price               object\n",
       "precio descontado      float64\n",
       "descuento               object\n",
       "promotion               object\n",
       "fuente                  object\n",
       "scrapping_day           object\n",
       "detail_url              object\n",
       "dtype: object"
      ]
     },
     "execution_count": 16,
     "metadata": {},
     "output_type": "execute_result"
    }
   ],
   "source": [
    "df.dtypes"
   ]
  },
  {
   "cell_type": "code",
   "execution_count": 17,
   "metadata": {},
   "outputs": [
    {
     "data": {
      "text/plain": [
       "(31289, 14)"
      ]
     },
     "execution_count": 17,
     "metadata": {},
     "output_type": "execute_result"
    }
   ],
   "source": [
    "df.shape"
   ]
  },
  {
   "cell_type": "code",
   "execution_count": 21,
   "metadata": {},
   "outputs": [
    {
     "data": {
      "text/plain": [
       "(2177, 14)"
      ]
     },
     "execution_count": 21,
     "metadata": {},
     "output_type": "execute_result"
    }
   ],
   "source": [
    "df = df[df['scrapping_day']==\"11/10/2024\"].copy()\n",
    "df.shape"
   ]
  },
  {
   "cell_type": "code",
   "execution_count": null,
   "metadata": {},
   "outputs": [],
   "source": [
    "df.sample(3)"
   ]
  },
  {
   "cell_type": "markdown",
   "metadata": {},
   "source": [
    "# formas farmacologicas"
   ]
  },
  {
   "cell_type": "code",
   "execution_count": 22,
   "metadata": {},
   "outputs": [],
   "source": [
    "def normalizar(text: str) -> str:\n",
    "    \"\"\"retorna la cadena del parametro sin acentos, en minuscula \n",
    "       y quita espacios al principio o fin de la cadena \"\"\"\n",
    "       \n",
    "    a,b = 'áéíóúüÁÉÍÓÚÜ','aeiouuAEIOUU'\n",
    "    trans = str.maketrans(a,b)\n",
    "    try:\n",
    "        text_normalized = text.translate(trans).lower().strip()\n",
    "    except:\n",
    "        print(f\"error normalizando: {text}\")\n",
    "        text_normalized = \"Error\"\n",
    "    return text_normalized\n",
    "\n",
    "def get_concentracion_from_description(desc_comer) -> list:\n",
    "   \"\"\" get the four characteristics from descripcion comercial( eg. 20 mg 20 tabletas)\n",
    "    receives an import row from matched_imports.csv, tries to find the \n",
    "    presentation(concentration, concentration unit, presentation, farmacology form) \n",
    "    from the comercial description(\"descripcion_comercial\") through differents forms\n",
    "    with regular expressions.\n",
    "\n",
    "    Returns\n",
    "    -------\n",
    "    list-like: \n",
    "         a list with concentration, concentration unit, presentation, farmacology form\n",
    "         eg. 150 mg 20 tabletas which means: 150 milligrams 20 tablets\n",
    "        \n",
    "    explicacion extendida:\n",
    "    ----------------------\n",
    "        El import tiene una descripcion comercial como esta:\n",
    "           # \"ninlaro (ixazomib) caja colectiva con 3 cajas con una capsula de 3.5 mg (uso humano)\"\n",
    "        La sigueinte expresion regular encuentra la parte de la cadena que indica las 4 caracteristicas\n",
    "        de su presentacion\n",
    "           # \\d+\\.?\\d*\\s*mg\\s*\\d{1,3}\\s*(tabletas|tab|capsulas|comprimidos|solucion oral|ge)\n",
    "        En este caso devuelve esto: 3 cajas con una capsula de 3.5 mg \n",
    "        que se convierte en: 3 capsulas 3.5 mg\n",
    "        Las regex descritas abajo se conforman básicamente de 4 partes que se alternan entre sí para\n",
    "        resolver las multiples patrones encontrados en su descripcion comercial\n",
    "        1) concentracion -> puede ser numero o flotante\n",
    "           # regex:  \\d+\\.?\\d*\\s* numero entero o decimal seguido de 0,1 o más espacios\n",
    "        2) unidad concentracion -> siempre mg por ahora \n",
    "           # mg\n",
    "        3) presentacion\n",
    "           # \\d{1,3} número de capsulas, siempre es entero y debe existir minimo una vez y maximo 3\n",
    "        4) forma farmacologica\n",
    "            #(tabletas|tab|capsulas|comprimidos|solucion inyectable|solucion oral|ge) tiene que haber por \n",
    "            #lo menos una de estas formas\n",
    "    \"\"\"\n",
    "   desc_comer = normalizar(desc_comer)\n",
    "   #------------------------------4------------------------------#\n",
    "   unidad_concentracion = '(mg|mcg|ml|gr)'\n",
    "   cant_flot = '\\d+\\.?\\d*\\s*'\n",
    "   cant_ent = '\\d{1,3}'\n",
    "   forma_farma = '(comprimidos|ampolletas|inyectable|suspension|tabletas|capsulas|solucion|jeringas|capsula|aerosol|parches|sobre|polvo|dosis|vial|caps|tabl|amp|tab|gel|ud)'\n",
    "   espacios = '\\s*'\n",
    "   any = '.{0,40}'\n",
    "   # 'seretide diskus polvo 50mcg/500mcg, 60 dosis.'\n",
    "   expresion_a = cant_flot+unidad_concentracion + \"/\" + cant_flot + unidad_concentracion + any + cant_ent + espacios + forma_farma\n",
    "   expresion_b =  cant_flot + espacios + unidad_concentracion  + any + cant_ent + espacios + forma_farma\n",
    "   expresion_c = cant_ent + espacios + forma_farma + any + cant_flot + unidad_concentracion\n",
    "   expresion_d = forma_farma + any + cant_flot + espacios + unidad_concentracion\n",
    "   expresion_e = cant_flot + espacios + unidad_concentracion  + any + forma_farma\n",
    "   expresion_f = cant_ent + espacios + forma_farma\n",
    "   expresion_g = cant_flot + espacios + unidad_concentracion\n",
    "   expresion_h = cant_flot + espacios + \"g\" \n",
    "\n",
    "   if not isinstance(desc_comer, str):\n",
    "       return [\"\", \"\",\"\"]\n",
    "   #----------------------------------------4--------------------------------------#\n",
    "   #seretide diskus polvo 50mcg/500mcg, 60 dosis.' -4\n",
    "   match = re.search(expresion_a, desc_comer)\n",
    "   if match:\n",
    "      info = match.group()\n",
    "\n",
    "      regex = cant_flot+unidad_concentracion + \"/\" + cant_flot + unidad_concentracion\n",
    "      peso = re.search(regex, info)\n",
    "      peso = peso[0]\n",
    "\n",
    "      regex = cant_ent + espacios + forma_farma\n",
    "      cantidad_forma_farma = re.search(regex, info)\n",
    "      cantidad = cantidad_forma_farma[0].split(\" \")[0]\n",
    "      forma_farmacologica = cantidad_forma_farma[0].split(\" \")[1]\n",
    "      \n",
    "      return [peso, cantidad, forma_farmacologica]\n",
    " \n",
    "   # 'kitoscell lp 600 mg, 90 tabletas.' -4\n",
    "   match = re.search(expresion_b, desc_comer)\n",
    "   if match:\n",
    "      info = match.group()\n",
    "      regex = cant_flot + espacios + unidad_concentracion\n",
    "      peso = re.search(regex, info)\n",
    "      peso = peso[0]\n",
    "\n",
    "      regex = cant_ent + espacios + forma_farma\n",
    "      cantidad_forma_farma = re.search(regex, info)\n",
    "      cantidad = cantidad_forma_farma[0].split(\" \")[0]\n",
    "      forma_farmacologica = cantidad_forma_farma[0].split(\" \")[1]\n",
    "      peso = peso.replace(\" \", \"\")\n",
    "      return [peso, cantidad, forma_farmacologica]\n",
    "\n",
    "   # \n",
    "   match = re.search(expresion_c, desc_comer)\n",
    "   if match:\n",
    "      info = match.group()\n",
    "      regex = cant_flot + espacios + unidad_concentracion\n",
    "      peso = re.search(regex, info)\n",
    "      peso = peso[0]\n",
    "\n",
    "      regex = cant_ent + espacios + forma_farma\n",
    "      cantidad_forma_farma = re.search(regex, info)\n",
    "      cantidad = cantidad_forma_farma[0].split(\" \")[0]\n",
    "      forma_farmacologica = cantidad_forma_farma[0].split(\" \")[1]\n",
    "      \n",
    "      peso = peso.replace(\" \", \"\")\n",
    "      return [peso, cantidad, forma_farmacologica]\n",
    "\n",
    "   # 'fosfocil 1 gr solución inyectable intravenosa, 1 pz.' -3 o -4\n",
    "   match = re.search(expresion_e, desc_comer)\n",
    "   if match:\n",
    "      info = match.group()\n",
    "      regex = cant_flot + espacios + unidad_concentracion \n",
    "      peso = re.search(regex, info)\n",
    "      peso = peso[0]\n",
    "\n",
    "      regex = forma_farma\n",
    "      forma_farmacologica = re.search(regex, info)[0]\n",
    "\n",
    "      cantidad = ''\n",
    "      match = re.search(\"\\d{1,3}\\s*(pz|pzas|piezas)\", desc_comer)\n",
    "      if match:\n",
    "         cantidad = re.search(\"\\d{1,3}\", info)[0] \n",
    "         \n",
    "      return [peso, cantidad, forma_farmacologica]\n",
    " \n",
    "   # 'kitoscell gel, 30 gr.' -3 \n",
    "   match = re.search(expresion_d, desc_comer)\n",
    "   if match:\n",
    "      info = match.group()\n",
    "      regex = cant_flot + espacios + unidad_concentracion\n",
    "      peso = re.search(regex, info)\n",
    "      peso = peso[0]\n",
    "\n",
    "      regex = forma_farma\n",
    "      forma_farmacologica = re.search(regex, info)[0]\n",
    "      peso = peso.replace(\" \", \"\")\n",
    "      return [peso, \"\", forma_farmacologica]\n",
    "\n",
    "   # 'allegra d tratamiento para la alergia y congestion nasal antihistaminico, 10 tabletas.' -2\n",
    "   match = re.search(expresion_f, desc_comer)\n",
    "   if match:\n",
    "      info = match.group()\n",
    "      regex = cant_ent + espacios + forma_farma\n",
    "      cantidad_forma_farma = re.search(regex, info)\n",
    "      cantidad = cantidad_forma_farma[0].split(\" \")[0]\n",
    "      forma_farmacologica = cantidad_forma_farma[0].split(\" \")[1]\n",
    "      return [\"\", cantidad, forma_farmacologica]\n",
    " \n",
    "   #'atrovent 250mcg/ml, 20 ml.' -2\n",
    "   match = re.search(expresion_g, desc_comer)\n",
    "   if match:\n",
    "      info = match.group()\n",
    "      regex = cant_flot + espacios + unidad_concentracion\n",
    "      peso = re.search(regex, info)\n",
    "      peso = peso[0]\n",
    "      peso = peso.replace(\" \", \"\")\n",
    "      return [peso, \"\", \"\"]\n",
    "\n",
    "   # Kitoscell Gel 10 g\n",
    "   match = re.search(expresion_h, desc_comer)\n",
    "   if match:\n",
    "      peso = match.group()\n",
    "      peso = peso.replace(\" \", \"\")\n",
    "      return [peso, \"\", \"\"]\n",
    "   \n",
    "   return [\"\", \"\",\"\"]"
   ]
  },
  {
   "cell_type": "code",
   "execution_count": 23,
   "metadata": {},
   "outputs": [],
   "source": [
    "def format_df(dfs):\n",
    "    peso, presentacion, forma_farmacologica = get_concentracion_from_description(dfs['descripcion'])\n",
    "    \n",
    "    return (peso, presentacion, forma_farmacologica)\n",
    "\n",
    "#df.apply(format_df, axis=1)"
   ]
  },
  {
   "cell_type": "code",
   "execution_count": 24,
   "metadata": {},
   "outputs": [
    {
     "data": {
      "text/html": [
       "<div>\n",
       "<style scoped>\n",
       "    .dataframe tbody tr th:only-of-type {\n",
       "        vertical-align: middle;\n",
       "    }\n",
       "\n",
       "    .dataframe tbody tr th {\n",
       "        vertical-align: top;\n",
       "    }\n",
       "\n",
       "    .dataframe thead th {\n",
       "        text-align: right;\n",
       "    }\n",
       "</style>\n",
       "<table border=\"1\" class=\"dataframe\">\n",
       "  <thead>\n",
       "    <tr style=\"text-align: right;\">\n",
       "      <th></th>\n",
       "      <th>medicamento</th>\n",
       "      <th>descripcion</th>\n",
       "      <th>peso</th>\n",
       "      <th>presentacion</th>\n",
       "      <th>forma_farmacologica</th>\n",
       "      <th>marca</th>\n",
       "      <th>precio</th>\n",
       "      <th>max_price</th>\n",
       "      <th>precio descontado</th>\n",
       "      <th>descuento</th>\n",
       "      <th>promotion</th>\n",
       "      <th>fuente</th>\n",
       "      <th>scrapping_day</th>\n",
       "      <th>detail_url</th>\n",
       "    </tr>\n",
       "  </thead>\n",
       "  <tbody>\n",
       "    <tr>\n",
       "      <th>29346</th>\n",
       "      <td>arcoxia</td>\n",
       "      <td>Arcoxia 28 Comprimidos Caja Etoricoxib 60 MG</td>\n",
       "      <td>60mg</td>\n",
       "      <td>28</td>\n",
       "      <td>comprimidos</td>\n",
       "      <td>NaN</td>\n",
       "      <td>1808.0</td>\n",
       "      <td>NaN</td>\n",
       "      <td>NaN</td>\n",
       "      <td>NaN</td>\n",
       "      <td>Programa Club Salud: Acumula 3 y el 4º es GRATIS.</td>\n",
       "      <td>Farmacias San Pablo</td>\n",
       "      <td>11/10/2024</td>\n",
       "      <td>/medicamentos/supervision-medica/a---b---c/arc...</td>\n",
       "    </tr>\n",
       "  </tbody>\n",
       "</table>\n",
       "</div>"
      ],
      "text/plain": [
       "      medicamento                                   descripcion  peso  \\\n",
       "29346     arcoxia  Arcoxia 28 Comprimidos Caja Etoricoxib 60 MG  60mg   \n",
       "\n",
       "      presentacion forma_farmacologica marca  precio max_price  \\\n",
       "29346           28         comprimidos   NaN  1808.0       NaN   \n",
       "\n",
       "       precio descontado descuento  \\\n",
       "29346                NaN       NaN   \n",
       "\n",
       "                                               promotion               fuente  \\\n",
       "29346  Programa Club Salud: Acumula 3 y el 4º es GRATIS.  Farmacias San Pablo   \n",
       "\n",
       "      scrapping_day                                         detail_url  \n",
       "29346    11/10/2024  /medicamentos/supervision-medica/a---b---c/arc...  "
      ]
     },
     "execution_count": 24,
     "metadata": {},
     "output_type": "execute_result"
    }
   ],
   "source": [
    "df[['peso', 'presentacion', 'forma_farmacologica']] = df.apply(format_df, axis=1, result_type='expand').copy()\n",
    "df.sample(1)"
   ]
  },
  {
   "cell_type": "code",
   "execution_count": null,
   "metadata": {},
   "outputs": [],
   "source": [
    "df[(df['peso'] != '') & (df['presentacion'] != '') & (df['forma_farmacologica'] != '')].shape"
   ]
  },
  {
   "cell_type": "code",
   "execution_count": 56,
   "metadata": {},
   "outputs": [],
   "source": [
    "df[['descripcion', 'peso', 'presentacion', 'forma_farmacologica']].to_csv(\"pb1.csv\")"
   ]
  },
  {
   "cell_type": "markdown",
   "metadata": {},
   "source": [
    "# medicamento not in descripcion"
   ]
  },
  {
   "cell_type": "code",
   "execution_count": 13,
   "metadata": {},
   "outputs": [],
   "source": [
    "mask = df.apply(lambda x: True if x.medicamento not in x.descripcion.lower() else False, axis=1)"
   ]
  },
  {
   "cell_type": "code",
   "execution_count": null,
   "metadata": {},
   "outputs": [],
   "source": [
    "df[mask][['medicamento', 'descripcion', 'fuente']].shape"
   ]
  },
  {
   "cell_type": "code",
   "execution_count": null,
   "metadata": {},
   "outputs": [],
   "source": [
    "df[(df['medicamento']=='galvus')]"
   ]
  },
  {
   "cell_type": "code",
   "execution_count": null,
   "metadata": {},
   "outputs": [],
   "source": [
    "key_medicines = [\n",
    "    'GIOTRIF', 'TARCEVA', 'IRESSA', 'VARGATEF', 'TAXOTERE', 'KEYTRUDA', 'OPDIVO', 'ACTILYSE',\n",
    "    'METALYSE', 'VARIDASA', 'OFEV', 'KITOSCELL', 'SERETIDE', 'PULMICORT', 'ZENHALE', 'SYMBICORT', \n",
    "    'VANNAIR', 'RELVARE', 'COMBIVENT', 'VENTOLIN', 'STERIVENT', 'ATROVENT', 'ALUPENT', 'VINZA',\n",
    "    'SPIRIVA', 'STRIVERDI', 'ONBRIZE', 'SEEBRI', 'EKLIRA', 'OSLIF', 'SPIOLTO', 'ULTIBRO', 'ANORO', \n",
    "    'DUAKLIR', 'ULUNAR', 'TRIMBOW', 'TRELEGY', 'MACRODANTINA', 'FURADANTINA', 'MICTASOL', 'FOSFOCIL',\n",
    "    'VODELAN', 'NITROFURANT.GI', 'BACTRIM', 'SECOTEX', 'XATRAL-OD', 'AVODART', 'COMBODART', 'PROSCAR', \n",
    "    'ASOFLON', 'PROFIDOX', 'UPROSOL', 'TAMSULOSINA', 'SIFROL', 'AZILECT', 'NUBRENZA', 'STALEVO', \n",
    "    'SINEMET', 'SUNAM', 'CLOISONE', 'FLURINOL', 'AVIANT', 'XUZAL', 'ALLEGRA', 'VIRLIX', 'MOBICOX', \n",
    "    'VOLTAREN', 'EXEL', 'CELEBREX', 'MELOSTERAL', 'ARCOXIA', 'TRAYENTA', 'JANUVIA', 'ONGLYZA', 'GALVUS', \n",
    "    'FAZIQUE', 'INCRESINA', 'XILIARXS', 'JALRA', 'JANUMET', 'KOMBIGLYZE', 'VELMETIA', \n",
    "    'JARDIANZ', 'XIGDUO', 'INVOKANA', 'TRULICITY', 'OZEMPIC', 'CATAPRESAN', 'CARDURA', 'MICARDIS', \n",
    "    'EDARBI', 'LOSARTAN', 'ATACAND', 'ALMETEC', 'APROVEL', 'AVAPRO', 'COZAAR', 'DIOVAN', 'LEGIONIS', \n",
    "    'TELARTEQ', 'TRANSENDIS', 'AVALIDE', 'HYZAAR', 'COAPROVEL', \n",
    "    'LOSAR', 'OPENVAS', 'EXFORGE', 'APROVASC', 'BICARTIAL', 'DUOALMETEC', 'MAXOPRESS', \n",
    "    'PRADAXAR', 'XARELTO', 'ELICUIS', 'CLEXANE', 'COUMADIN', 'SINTROM', 'FRAXIPARINE'\n",
    "]\n",
    "len(key_medicines)"
   ]
  },
  {
   "cell_type": "markdown",
   "metadata": {},
   "source": [
    "# palabras de busqueda"
   ]
  },
  {
   "cell_type": "code",
   "execution_count": 7,
   "metadata": {},
   "outputs": [],
   "source": [
    "def normalizar(text: str) -> str:\n",
    "    \"\"\"retorna la cadena del parametro sin acentos, en minuscula \n",
    "       y quita espacios al principio o fin de la cadena \"\"\"\n",
    "       \n",
    "    a,b = 'áéíóúüÁÉÍÓÚÜ','aeiouuAEIOUU'\n",
    "    trans = str.maketrans(a,b)\n",
    "    try:\n",
    "        text_normalized = text.translate(trans).lower().strip()\n",
    "    except:\n",
    "        print(f\"error normalizando: {text}\")\n",
    "        text_normalized = \"Error\"\n",
    "    return text_normalized\n",
    "\n",
    "\n",
    "def get_concentracion_from_description(desc_comer) -> list:\n",
    "   \"\"\" get the four characteristics from descripcion comercial( eg. 20 mg 20 tabletas)\n",
    "    receives an import row from matched_imports.csv, tries to find the \n",
    "    presentation(concentration, concentration unit, presentation, farmacology form) \n",
    "    from the comercial description(\"descripcion_comercial\") through differents forms\n",
    "    with regular expressions.\n",
    "\n",
    "    Returns\n",
    "    -------\n",
    "    list-like: \n",
    "         a list with concentration, concentration unit, presentation, farmacology form\n",
    "         eg. 150 mg 20 tabletas which means: 150 milligrams 20 tablets\n",
    "        \n",
    "    explicacion extendida:\n",
    "    ----------------------\n",
    "        El import tiene una descripcion comercial como esta:\n",
    "           # \"ninlaro (ixazomib) caja colectiva con 3 cajas con una capsula de 3.5 mg (uso humano)\"\n",
    "        La sigueinte expresion regular encuentra la parte de la cadena que indica las 4 caracteristicas\n",
    "        de su presentacion\n",
    "           # \\d+\\.?\\d*\\s*mg\\s*\\d{1,3}\\s*(tabletas|tab|capsulas|comprimidos|solucion oral|ge)\n",
    "        En este caso devuelve esto: 3 cajas con una capsula de 3.5 mg \n",
    "        que se convierte en: 3 capsulas 3.5 mg\n",
    "        Las regex descritas abajo se conforman básicamente de 4 partes que se alternan entre sí para\n",
    "        resolver las multiples patrones encontrados en su descripcion comercial\n",
    "        1) concentracion -> puede ser numero o flotante\n",
    "           # regex:  \\d+\\.?\\d*\\s* numero entero o decimal seguido de 0,1 o más espacios\n",
    "        2) unidad concentracion -> siempre mg por ahora \n",
    "           # mg\n",
    "        3) presentacion\n",
    "           # \\d{1,3} número de capsulas, siempre es entero y debe existir minimo una vez y maximo 3\n",
    "        4) forma farmacologica\n",
    "            #(tabletas|tab|capsulas|comprimidos|solucion inyectable|solucion oral|ge) tiene que haber por \n",
    "            #lo menos una de estas formas\n",
    "    \"\"\"\n",
    "   desc_comer = normalizar(desc_comer)\n",
    "   #------------------------------4------------------------------#\n",
    "   unidad_concentracion = '(mg|mcg|ml|gr|y|g)'\n",
    "   cant_flot = '\\d+\\.?\\d*\\s*'\n",
    "   cant_ent = '\\d{1,3}'\n",
    "   cant_ff = 'x \\d{1,3}'\n",
    "   forma_farma = '(comprimidos|ampolletas|inyectable|suspension|tabletas|capsulas|solucion|jeringas|capsula|aerosol|parches|sobre|polvo|dosis|spray|vial|caps|tabl|amp|tab|gel)'\n",
    "   espacios = '\\s*'\n",
    "   any = '.{0,40}'\n",
    "   expresion_a = forma_farma + any + cant_flot + espacios + unidad_concentracion + espacios + cant_ff\n",
    "\n",
    "   expresion_b = cant_flot + espacios + unidad_concentracion + espacios + cant_ff\n",
    "   expresion_c = forma_farma + any + cant_ff\n",
    "   \n",
    "   if not isinstance(desc_comer, str):\n",
    "       return [\"\", \"\",\"\"]\n",
    "   \n",
    "   # GIOTRIF TABL F.COATE 20 MG x 30\n",
    "   match = re.search(expresion_a, desc_comer)\n",
    "   if match:\n",
    "      info = match.group()\n",
    "      regex = cant_flot + espacios + unidad_concentracion\n",
    "      peso = re.search(regex, info)\n",
    "      p = re.search(cant_flot,peso[0])[0]\n",
    "      try:\n",
    "         int(p)\n",
    "         pe = p\n",
    "      except:\n",
    "         pe = str(float(p))\n",
    "      so = re.search(unidad_concentracion,peso[0])[0]\n",
    "      peso = pe+so\n",
    "      regex = cant_ff\n",
    "      cant = re.search(regex, info)[0]\n",
    "      cant = re.search(cant_ent, cant)[0]\n",
    "\n",
    "      regex = forma_farma\n",
    "      forma_farmacologica = re.search(regex, info)[0]\n",
    "      peso = peso.replace(\" \", \"\").replace(\"y\", \"mcg\")\n",
    "      return [peso, cant, forma_farmacologica]\n",
    "\n",
    "   # ACTILYSE V.INF C/SOLV 50 MG x 2\n",
    "   match = re.search(expresion_b, desc_comer)\n",
    "   if match:\n",
    "      info = match.group()\n",
    "      regex = cant_flot + espacios + unidad_concentracion\n",
    "      peso = re.search(regex, info)\n",
    "      p = re.search(cant_flot,peso[0])[0]\n",
    "      try:\n",
    "         int(p)\n",
    "         pe = p\n",
    "      except:\n",
    "         pe = str(float(p))\n",
    "      so = re.search(unidad_concentracion,peso[0])[0]\n",
    "      peso = pe+so\n",
    "      regex = cant_ff\n",
    "      cant = re.search(regex, info)[0]\n",
    "      cant = re.search(cant_ent, cant)[0]\n",
    "      peso = peso.replace(\" \", \"\").replace(\"y\", \"mcg\")\n",
    "      return [peso, cant, \"\"]\n",
    "   \n",
    "   # VARIDASA TABL  ORAL x 24\n",
    "   match = re.search(expresion_c, desc_comer)\n",
    "   if match:\n",
    "      info = match.group()\n",
    "      forma_farmacologica = re.search(forma_farma, info)[0]\n",
    "\n",
    "      regex = cant_ff\n",
    "      cant = re.search(regex, info)[0]\n",
    "      cant = re.search(cant_ent, cant)[0]\n",
    "      \n",
    "      return [\"\", cant, forma_farmacologica]\n",
    "   \n",
    "   return [\"\", \"\",\"\"]\n"
   ]
  },
  {
   "cell_type": "code",
   "execution_count": 8,
   "metadata": {},
   "outputs": [
    {
     "ename": "ImportError",
     "evalue": "Missing optional dependency 'openpyxl'.  Use pip or conda to install openpyxl.",
     "output_type": "error",
     "traceback": [
      "\u001b[1;31m---------------------------------------------------------------------------\u001b[0m",
      "\u001b[1;31mModuleNotFoundError\u001b[0m                       Traceback (most recent call last)",
      "File \u001b[1;32mc:\\Users\\juan-\\Desktop\\ecomm-precios\\precios-ecomm\\venv\\lib\\site-packages\\pandas\\compat\\_optional.py:135\u001b[0m, in \u001b[0;36mimport_optional_dependency\u001b[1;34m(name, extra, errors, min_version)\u001b[0m\n\u001b[0;32m    134\u001b[0m \u001b[38;5;28;01mtry\u001b[39;00m:\n\u001b[1;32m--> 135\u001b[0m     module \u001b[38;5;241m=\u001b[39m \u001b[43mimportlib\u001b[49m\u001b[38;5;241;43m.\u001b[39;49m\u001b[43mimport_module\u001b[49m\u001b[43m(\u001b[49m\u001b[43mname\u001b[49m\u001b[43m)\u001b[49m\n\u001b[0;32m    136\u001b[0m \u001b[38;5;28;01mexcept\u001b[39;00m \u001b[38;5;167;01mImportError\u001b[39;00m:\n",
      "File \u001b[1;32m~\\AppData\\Local\\Programs\\Python\\Python39\\lib\\importlib\\__init__.py:127\u001b[0m, in \u001b[0;36mimport_module\u001b[1;34m(name, package)\u001b[0m\n\u001b[0;32m    126\u001b[0m         level \u001b[38;5;241m+\u001b[39m\u001b[38;5;241m=\u001b[39m \u001b[38;5;241m1\u001b[39m\n\u001b[1;32m--> 127\u001b[0m \u001b[38;5;28;01mreturn\u001b[39;00m \u001b[43m_bootstrap\u001b[49m\u001b[38;5;241;43m.\u001b[39;49m\u001b[43m_gcd_import\u001b[49m\u001b[43m(\u001b[49m\u001b[43mname\u001b[49m\u001b[43m[\u001b[49m\u001b[43mlevel\u001b[49m\u001b[43m:\u001b[49m\u001b[43m]\u001b[49m\u001b[43m,\u001b[49m\u001b[43m \u001b[49m\u001b[43mpackage\u001b[49m\u001b[43m,\u001b[49m\u001b[43m \u001b[49m\u001b[43mlevel\u001b[49m\u001b[43m)\u001b[49m\n",
      "File \u001b[1;32m<frozen importlib._bootstrap>:1030\u001b[0m, in \u001b[0;36m_gcd_import\u001b[1;34m(name, package, level)\u001b[0m\n",
      "File \u001b[1;32m<frozen importlib._bootstrap>:1007\u001b[0m, in \u001b[0;36m_find_and_load\u001b[1;34m(name, import_)\u001b[0m\n",
      "File \u001b[1;32m<frozen importlib._bootstrap>:984\u001b[0m, in \u001b[0;36m_find_and_load_unlocked\u001b[1;34m(name, import_)\u001b[0m\n",
      "\u001b[1;31mModuleNotFoundError\u001b[0m: No module named 'openpyxl'",
      "\nDuring handling of the above exception, another exception occurred:\n",
      "\u001b[1;31mImportError\u001b[0m                               Traceback (most recent call last)",
      "Cell \u001b[1;32mIn[8], line 1\u001b[0m\n\u001b[1;32m----> 1\u001b[0m dfm \u001b[38;5;241m=\u001b[39m \u001b[43mpd\u001b[49m\u001b[38;5;241;43m.\u001b[39;49m\u001b[43mread_excel\u001b[49m\u001b[43m(\u001b[49m\u001b[38;5;124;43m'\u001b[39;49m\u001b[38;5;124;43mPalabras de búsqueda.xlsx\u001b[39;49m\u001b[38;5;124;43m'\u001b[39;49m\u001b[43m)\u001b[49m\n",
      "File \u001b[1;32mc:\\Users\\juan-\\Desktop\\ecomm-precios\\precios-ecomm\\venv\\lib\\site-packages\\pandas\\io\\excel\\_base.py:495\u001b[0m, in \u001b[0;36mread_excel\u001b[1;34m(io, sheet_name, header, names, index_col, usecols, dtype, engine, converters, true_values, false_values, skiprows, nrows, na_values, keep_default_na, na_filter, verbose, parse_dates, date_parser, date_format, thousands, decimal, comment, skipfooter, storage_options, dtype_backend, engine_kwargs)\u001b[0m\n\u001b[0;32m    493\u001b[0m \u001b[38;5;28;01mif\u001b[39;00m \u001b[38;5;129;01mnot\u001b[39;00m \u001b[38;5;28misinstance\u001b[39m(io, ExcelFile):\n\u001b[0;32m    494\u001b[0m     should_close \u001b[38;5;241m=\u001b[39m \u001b[38;5;28;01mTrue\u001b[39;00m\n\u001b[1;32m--> 495\u001b[0m     io \u001b[38;5;241m=\u001b[39m \u001b[43mExcelFile\u001b[49m\u001b[43m(\u001b[49m\n\u001b[0;32m    496\u001b[0m \u001b[43m        \u001b[49m\u001b[43mio\u001b[49m\u001b[43m,\u001b[49m\n\u001b[0;32m    497\u001b[0m \u001b[43m        \u001b[49m\u001b[43mstorage_options\u001b[49m\u001b[38;5;241;43m=\u001b[39;49m\u001b[43mstorage_options\u001b[49m\u001b[43m,\u001b[49m\n\u001b[0;32m    498\u001b[0m \u001b[43m        \u001b[49m\u001b[43mengine\u001b[49m\u001b[38;5;241;43m=\u001b[39;49m\u001b[43mengine\u001b[49m\u001b[43m,\u001b[49m\n\u001b[0;32m    499\u001b[0m \u001b[43m        \u001b[49m\u001b[43mengine_kwargs\u001b[49m\u001b[38;5;241;43m=\u001b[39;49m\u001b[43mengine_kwargs\u001b[49m\u001b[43m,\u001b[49m\n\u001b[0;32m    500\u001b[0m \u001b[43m    \u001b[49m\u001b[43m)\u001b[49m\n\u001b[0;32m    501\u001b[0m \u001b[38;5;28;01melif\u001b[39;00m engine \u001b[38;5;129;01mand\u001b[39;00m engine \u001b[38;5;241m!=\u001b[39m io\u001b[38;5;241m.\u001b[39mengine:\n\u001b[0;32m    502\u001b[0m     \u001b[38;5;28;01mraise\u001b[39;00m \u001b[38;5;167;01mValueError\u001b[39;00m(\n\u001b[0;32m    503\u001b[0m         \u001b[38;5;124m\"\u001b[39m\u001b[38;5;124mEngine should not be specified when passing \u001b[39m\u001b[38;5;124m\"\u001b[39m\n\u001b[0;32m    504\u001b[0m         \u001b[38;5;124m\"\u001b[39m\u001b[38;5;124man ExcelFile - ExcelFile already has the engine set\u001b[39m\u001b[38;5;124m\"\u001b[39m\n\u001b[0;32m    505\u001b[0m     )\n",
      "File \u001b[1;32mc:\\Users\\juan-\\Desktop\\ecomm-precios\\precios-ecomm\\venv\\lib\\site-packages\\pandas\\io\\excel\\_base.py:1567\u001b[0m, in \u001b[0;36mExcelFile.__init__\u001b[1;34m(self, path_or_buffer, engine, storage_options, engine_kwargs)\u001b[0m\n\u001b[0;32m   1564\u001b[0m \u001b[38;5;28mself\u001b[39m\u001b[38;5;241m.\u001b[39mengine \u001b[38;5;241m=\u001b[39m engine\n\u001b[0;32m   1565\u001b[0m \u001b[38;5;28mself\u001b[39m\u001b[38;5;241m.\u001b[39mstorage_options \u001b[38;5;241m=\u001b[39m storage_options\n\u001b[1;32m-> 1567\u001b[0m \u001b[38;5;28mself\u001b[39m\u001b[38;5;241m.\u001b[39m_reader \u001b[38;5;241m=\u001b[39m \u001b[38;5;28;43mself\u001b[39;49m\u001b[38;5;241;43m.\u001b[39;49m\u001b[43m_engines\u001b[49m\u001b[43m[\u001b[49m\u001b[43mengine\u001b[49m\u001b[43m]\u001b[49m\u001b[43m(\u001b[49m\n\u001b[0;32m   1568\u001b[0m \u001b[43m    \u001b[49m\u001b[38;5;28;43mself\u001b[39;49m\u001b[38;5;241;43m.\u001b[39;49m\u001b[43m_io\u001b[49m\u001b[43m,\u001b[49m\n\u001b[0;32m   1569\u001b[0m \u001b[43m    \u001b[49m\u001b[43mstorage_options\u001b[49m\u001b[38;5;241;43m=\u001b[39;49m\u001b[43mstorage_options\u001b[49m\u001b[43m,\u001b[49m\n\u001b[0;32m   1570\u001b[0m \u001b[43m    \u001b[49m\u001b[43mengine_kwargs\u001b[49m\u001b[38;5;241;43m=\u001b[39;49m\u001b[43mengine_kwargs\u001b[49m\u001b[43m,\u001b[49m\n\u001b[0;32m   1571\u001b[0m \u001b[43m\u001b[49m\u001b[43m)\u001b[49m\n",
      "File \u001b[1;32mc:\\Users\\juan-\\Desktop\\ecomm-precios\\precios-ecomm\\venv\\lib\\site-packages\\pandas\\io\\excel\\_openpyxl.py:552\u001b[0m, in \u001b[0;36mOpenpyxlReader.__init__\u001b[1;34m(self, filepath_or_buffer, storage_options, engine_kwargs)\u001b[0m\n\u001b[0;32m    534\u001b[0m \u001b[38;5;129m@doc\u001b[39m(storage_options\u001b[38;5;241m=\u001b[39m_shared_docs[\u001b[38;5;124m\"\u001b[39m\u001b[38;5;124mstorage_options\u001b[39m\u001b[38;5;124m\"\u001b[39m])\n\u001b[0;32m    535\u001b[0m \u001b[38;5;28;01mdef\u001b[39;00m \u001b[38;5;21m__init__\u001b[39m(\n\u001b[0;32m    536\u001b[0m     \u001b[38;5;28mself\u001b[39m,\n\u001b[1;32m   (...)\u001b[0m\n\u001b[0;32m    539\u001b[0m     engine_kwargs: \u001b[38;5;28mdict\u001b[39m \u001b[38;5;241m|\u001b[39m \u001b[38;5;28;01mNone\u001b[39;00m \u001b[38;5;241m=\u001b[39m \u001b[38;5;28;01mNone\u001b[39;00m,\n\u001b[0;32m    540\u001b[0m ) \u001b[38;5;241m-\u001b[39m\u001b[38;5;241m>\u001b[39m \u001b[38;5;28;01mNone\u001b[39;00m:\n\u001b[0;32m    541\u001b[0m \u001b[38;5;250m    \u001b[39m\u001b[38;5;124;03m\"\"\"\u001b[39;00m\n\u001b[0;32m    542\u001b[0m \u001b[38;5;124;03m    Reader using openpyxl engine.\u001b[39;00m\n\u001b[0;32m    543\u001b[0m \n\u001b[1;32m   (...)\u001b[0m\n\u001b[0;32m    550\u001b[0m \u001b[38;5;124;03m        Arbitrary keyword arguments passed to excel engine.\u001b[39;00m\n\u001b[0;32m    551\u001b[0m \u001b[38;5;124;03m    \"\"\"\u001b[39;00m\n\u001b[1;32m--> 552\u001b[0m     \u001b[43mimport_optional_dependency\u001b[49m\u001b[43m(\u001b[49m\u001b[38;5;124;43m\"\u001b[39;49m\u001b[38;5;124;43mopenpyxl\u001b[39;49m\u001b[38;5;124;43m\"\u001b[39;49m\u001b[43m)\u001b[49m\n\u001b[0;32m    553\u001b[0m     \u001b[38;5;28msuper\u001b[39m()\u001b[38;5;241m.\u001b[39m\u001b[38;5;21m__init__\u001b[39m(\n\u001b[0;32m    554\u001b[0m         filepath_or_buffer,\n\u001b[0;32m    555\u001b[0m         storage_options\u001b[38;5;241m=\u001b[39mstorage_options,\n\u001b[0;32m    556\u001b[0m         engine_kwargs\u001b[38;5;241m=\u001b[39mengine_kwargs,\n\u001b[0;32m    557\u001b[0m     )\n",
      "File \u001b[1;32mc:\\Users\\juan-\\Desktop\\ecomm-precios\\precios-ecomm\\venv\\lib\\site-packages\\pandas\\compat\\_optional.py:138\u001b[0m, in \u001b[0;36mimport_optional_dependency\u001b[1;34m(name, extra, errors, min_version)\u001b[0m\n\u001b[0;32m    136\u001b[0m \u001b[38;5;28;01mexcept\u001b[39;00m \u001b[38;5;167;01mImportError\u001b[39;00m:\n\u001b[0;32m    137\u001b[0m     \u001b[38;5;28;01mif\u001b[39;00m errors \u001b[38;5;241m==\u001b[39m \u001b[38;5;124m\"\u001b[39m\u001b[38;5;124mraise\u001b[39m\u001b[38;5;124m\"\u001b[39m:\n\u001b[1;32m--> 138\u001b[0m         \u001b[38;5;28;01mraise\u001b[39;00m \u001b[38;5;167;01mImportError\u001b[39;00m(msg)\n\u001b[0;32m    139\u001b[0m     \u001b[38;5;28;01mreturn\u001b[39;00m \u001b[38;5;28;01mNone\u001b[39;00m\n\u001b[0;32m    141\u001b[0m \u001b[38;5;66;03m# Handle submodules: if we have submodule, grab parent module from sys.modules\u001b[39;00m\n",
      "\u001b[1;31mImportError\u001b[0m: Missing optional dependency 'openpyxl'.  Use pip or conda to install openpyxl."
     ]
    }
   ],
   "source": [
    "dfm = pd.read_excel('Palabras de búsqueda.xlsx')"
   ]
  },
  {
   "cell_type": "code",
   "execution_count": null,
   "metadata": {},
   "outputs": [],
   "source": [
    "dfm.shape"
   ]
  },
  {
   "cell_type": "code",
   "execution_count": null,
   "metadata": {},
   "outputs": [],
   "source": [
    "dfm.sample(5)"
   ]
  },
  {
   "cell_type": "code",
   "execution_count": 16,
   "metadata": {},
   "outputs": [],
   "source": [
    "def format_df(med):\n",
    "    name = med['Medicamento'].strip().split(\" \",1)[0].strip().lower()\n",
    "    peso, presentacion, forma_farmacologica = get_concentracion_from_description(med['Medicamento'])\n",
    "    \n",
    "    return (name, peso, presentacion, forma_farmacologica)\n",
    "\n",
    "#dfm.apply(format_df, axis=1)"
   ]
  },
  {
   "cell_type": "code",
   "execution_count": null,
   "metadata": {},
   "outputs": [],
   "source": [
    "dfm[['name', 'peso', 'presentacion', 'forma_farmacologica']] = dfm.apply(format_df, axis=1, result_type='expand')\n",
    "dfm.sample(7)"
   ]
  },
  {
   "cell_type": "code",
   "execution_count": null,
   "metadata": {},
   "outputs": [],
   "source": [
    "dfm.shape"
   ]
  },
  {
   "cell_type": "code",
   "execution_count": null,
   "metadata": {},
   "outputs": [],
   "source": [
    "dfm[(dfm['peso'] == '') & (dfm['presentacion'] == '') & (dfm['forma_farmacologica'] == '')].shape"
   ]
  },
  {
   "cell_type": "code",
   "execution_count": 19,
   "metadata": {},
   "outputs": [],
   "source": [
    "dfm.to_csv(\"medicamentos_base_homologada.csv\")"
   ]
  },
  {
   "cell_type": "markdown",
   "metadata": {},
   "source": [
    "# Cross"
   ]
  },
  {
   "cell_type": "code",
   "execution_count": 25,
   "metadata": {},
   "outputs": [],
   "source": [
    "dfm  = pd.read_csv('medicamentos_base_homologada.csv')"
   ]
  },
  {
   "cell_type": "code",
   "execution_count": 26,
   "metadata": {},
   "outputs": [
    {
     "data": {
      "text/html": [
       "<div>\n",
       "<style scoped>\n",
       "    .dataframe tbody tr th:only-of-type {\n",
       "        vertical-align: middle;\n",
       "    }\n",
       "\n",
       "    .dataframe tbody tr th {\n",
       "        vertical-align: top;\n",
       "    }\n",
       "\n",
       "    .dataframe thead th {\n",
       "        text-align: right;\n",
       "    }\n",
       "</style>\n",
       "<table border=\"1\" class=\"dataframe\">\n",
       "  <thead>\n",
       "    <tr style=\"text-align: right;\">\n",
       "      <th></th>\n",
       "      <th>medicamento</th>\n",
       "      <th>descripcion</th>\n",
       "      <th>peso</th>\n",
       "      <th>presentacion</th>\n",
       "      <th>forma_farmacologica</th>\n",
       "    </tr>\n",
       "  </thead>\n",
       "  <tbody>\n",
       "    <tr>\n",
       "      <th>28275</th>\n",
       "      <td>almetec</td>\n",
       "      <td>almetec tri 40mg/5mg/12.5mg, 14 tabletas.</td>\n",
       "      <td>40mg/5mg</td>\n",
       "      <td>14</td>\n",
       "      <td>tabletas</td>\n",
       "    </tr>\n",
       "    <tr>\n",
       "      <th>28353</th>\n",
       "      <td>losar</td>\n",
       "      <td>papilla heinz de mango, a partir de los 6 mese...</td>\n",
       "      <td>113gr</td>\n",
       "      <td></td>\n",
       "      <td></td>\n",
       "    </tr>\n",
       "  </tbody>\n",
       "</table>\n",
       "</div>"
      ],
      "text/plain": [
       "      medicamento                                        descripcion  \\\n",
       "28275     almetec          almetec tri 40mg/5mg/12.5mg, 14 tabletas.   \n",
       "28353       losar  papilla heinz de mango, a partir de los 6 mese...   \n",
       "\n",
       "           peso presentacion forma_farmacologica  \n",
       "28275  40mg/5mg           14            tabletas  \n",
       "28353     113gr                                   "
      ]
     },
     "execution_count": 26,
     "metadata": {},
     "output_type": "execute_result"
    }
   ],
   "source": [
    "df = df[['medicamento','descripcion', 'peso', 'presentacion', 'forma_farmacologica']].copy()\n",
    "df.sample(2)"
   ]
  },
  {
   "cell_type": "code",
   "execution_count": 27,
   "metadata": {},
   "outputs": [
    {
     "data": {
      "text/html": [
       "<div>\n",
       "<style scoped>\n",
       "    .dataframe tbody tr th:only-of-type {\n",
       "        vertical-align: middle;\n",
       "    }\n",
       "\n",
       "    .dataframe tbody tr th {\n",
       "        vertical-align: top;\n",
       "    }\n",
       "\n",
       "    .dataframe thead th {\n",
       "        text-align: right;\n",
       "    }\n",
       "</style>\n",
       "<table border=\"1\" class=\"dataframe\">\n",
       "  <thead>\n",
       "    <tr style=\"text-align: right;\">\n",
       "      <th></th>\n",
       "      <th>Medicamento</th>\n",
       "      <th>name</th>\n",
       "      <th>peso</th>\n",
       "      <th>presentacion</th>\n",
       "      <th>forma_farmacologica</th>\n",
       "    </tr>\n",
       "  </thead>\n",
       "  <tbody>\n",
       "    <tr>\n",
       "      <th>47</th>\n",
       "      <td>ONBRIZE CAPS B.HAL 300 Y x 30</td>\n",
       "      <td>onbrize</td>\n",
       "      <td>300mcg</td>\n",
       "      <td>30.0</td>\n",
       "      <td>caps</td>\n",
       "    </tr>\n",
       "    <tr>\n",
       "      <th>50</th>\n",
       "      <td>SERETIDE AER.CD EVOH 125 Y x 120 (/25)</td>\n",
       "      <td>seretide</td>\n",
       "      <td>125mcg</td>\n",
       "      <td>120.0</td>\n",
       "      <td>NaN</td>\n",
       "    </tr>\n",
       "  </tbody>\n",
       "</table>\n",
       "</div>"
      ],
      "text/plain": [
       "                                 Medicamento      name    peso  presentacion  \\\n",
       "47             ONBRIZE CAPS B.HAL 300 Y x 30   onbrize  300mcg          30.0   \n",
       "50    SERETIDE AER.CD EVOH 125 Y x 120 (/25)  seretide  125mcg         120.0   \n",
       "\n",
       "   forma_farmacologica  \n",
       "47                caps  \n",
       "50                 NaN  "
      ]
     },
     "execution_count": 27,
     "metadata": {},
     "output_type": "execute_result"
    }
   ],
   "source": [
    "dfm[['Medicamento','name','peso','presentacion','forma_farmacologica']].sample(2)"
   ]
  },
  {
   "cell_type": "code",
   "execution_count": 28,
   "metadata": {},
   "outputs": [],
   "source": [
    "def homologar(df):\n",
    "    med = df['medicamento']\n",
    "    peso = df['peso']\n",
    "    pres =df['presentacion']\n",
    "    ff = df['forma_farmacologica']\n",
    "\n",
    "    if not peso or not pres:\n",
    "        if peso:\n",
    "            sintetic_homolog = med + \" \" + ff + \" \" + peso\n",
    "            return sintetic_homolog.replace(\"dosis\", \"\").replace(\"mcg\", \"Y\").strip().upper()\n",
    "        \n",
    "        else:\n",
    "            return \"\"\n",
    "    \n",
    "    df_c = dfm[ (dfm['name']==med) & (dfm['peso']==peso) & (dfm['presentacion']==pres) ]\n",
    "    coinc = len(df_c)\n",
    "    if coinc > 0:\n",
    "        return str(df_c['Medicamento'].iloc[0]).strip()\n",
    "    \n",
    "    sintetic_homolog = med + \" \" + ff + \" \" + peso + \" x \" + pres\n",
    "    return sintetic_homolog.replace(\"dosis\", \"\").replace(\"mcg\", \"Y\").strip().upper()\n",
    "\n",
    " #df.apply(homologar, axis=1)"
   ]
  },
  {
   "cell_type": "code",
   "execution_count": 29,
   "metadata": {},
   "outputs": [],
   "source": [
    "df['h'] = df.apply(homologar, axis=1)"
   ]
  },
  {
   "cell_type": "code",
   "execution_count": 30,
   "metadata": {},
   "outputs": [
    {
     "data": {
      "text/plain": [
       "h\n",
       "                              164\n",
       "JALRA  120ML                   23\n",
       "LOSAR  113GR                   12\n",
       "LOSAR  85GR                    11\n",
       "JALRA  250ML                   10\n",
       "                             ... \n",
       "LOSAR  750ML                    1\n",
       "LOSAR  225GR                    1\n",
       "LOSAR  42GR                     1\n",
       "LOSAR  14ML                     1\n",
       "COUMADIN TABLETAS 2MG X 21      1\n",
       "Name: count, Length: 1288, dtype: int64"
      ]
     },
     "execution_count": 30,
     "metadata": {},
     "output_type": "execute_result"
    }
   ],
   "source": [
    "df['h'].value_counts()"
   ]
  },
  {
   "cell_type": "code",
   "execution_count": 68,
   "metadata": {},
   "outputs": [],
   "source": [
    "df.to_csv(\"pb1.csv\")"
   ]
  },
  {
   "cell_type": "code",
   "execution_count": 31,
   "metadata": {},
   "outputs": [
    {
     "data": {
      "text/plain": [
       "(2013, 6)"
      ]
     },
     "execution_count": 31,
     "metadata": {},
     "output_type": "execute_result"
    }
   ],
   "source": [
    "df[df['h'] != ''].shape"
   ]
  }
 ],
 "metadata": {
  "kernelspec": {
   "display_name": "venv",
   "language": "python",
   "name": "python3"
  },
  "language_info": {
   "codemirror_mode": {
    "name": "ipython",
    "version": 3
   },
   "file_extension": ".py",
   "mimetype": "text/x-python",
   "name": "python",
   "nbconvert_exporter": "python",
   "pygments_lexer": "ipython3",
   "version": "3.9.0"
  }
 },
 "nbformat": 4,
 "nbformat_minor": 2
}
